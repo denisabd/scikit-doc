{
 "cells": [
  {
   "attachments": {},
   "cell_type": "markdown",
   "metadata": {},
   "source": [
    "## About"
   ]
  },
  {
   "attachments": {},
   "cell_type": "markdown",
   "metadata": {},
   "source": [
    "This notebook is for researching of the "
   ]
  },
  {
   "attachments": {},
   "cell_type": "markdown",
   "metadata": {},
   "source": [
    "## Data"
   ]
  },
  {
   "cell_type": "code",
   "execution_count": 44,
   "metadata": {},
   "outputs": [],
   "source": [
    "from sklearn.datasets import fetch_openml\n",
    "housing = fetch_openml(name='house_prices', as_frame=True, parser='pandas')"
   ]
  },
  {
   "cell_type": "code",
   "execution_count": 45,
   "metadata": {},
   "outputs": [
    {
     "name": "stdout",
     "output_type": "stream",
     "text": [
      "<class 'pandas.core.frame.DataFrame'>\n",
      "<class 'pandas.core.series.Series'>\n"
     ]
    }
   ],
   "source": [
    "print(type(housing.data))\n",
    "print(type(housing.target))"
   ]
  },
  {
   "cell_type": "code",
   "execution_count": 46,
   "metadata": {},
   "outputs": [
    {
     "data": {
      "text/html": [
       "<div>\n",
       "<style scoped>\n",
       "    .dataframe tbody tr th:only-of-type {\n",
       "        vertical-align: middle;\n",
       "    }\n",
       "\n",
       "    .dataframe tbody tr th {\n",
       "        vertical-align: top;\n",
       "    }\n",
       "\n",
       "    .dataframe thead th {\n",
       "        text-align: right;\n",
       "    }\n",
       "</style>\n",
       "<table border=\"1\" class=\"dataframe\">\n",
       "  <thead>\n",
       "    <tr style=\"text-align: right;\">\n",
       "      <th></th>\n",
       "      <th>Id</th>\n",
       "      <th>MSSubClass</th>\n",
       "      <th>MSZoning</th>\n",
       "      <th>LotFrontage</th>\n",
       "      <th>LotArea</th>\n",
       "      <th>Street</th>\n",
       "      <th>Alley</th>\n",
       "      <th>LotShape</th>\n",
       "      <th>LandContour</th>\n",
       "      <th>Utilities</th>\n",
       "      <th>...</th>\n",
       "      <th>ScreenPorch</th>\n",
       "      <th>PoolArea</th>\n",
       "      <th>PoolQC</th>\n",
       "      <th>Fence</th>\n",
       "      <th>MiscFeature</th>\n",
       "      <th>MiscVal</th>\n",
       "      <th>MoSold</th>\n",
       "      <th>YrSold</th>\n",
       "      <th>SaleType</th>\n",
       "      <th>SaleCondition</th>\n",
       "    </tr>\n",
       "  </thead>\n",
       "  <tbody>\n",
       "    <tr>\n",
       "      <th>0</th>\n",
       "      <td>1</td>\n",
       "      <td>60</td>\n",
       "      <td>RL</td>\n",
       "      <td>65.0</td>\n",
       "      <td>8450</td>\n",
       "      <td>Pave</td>\n",
       "      <td>NaN</td>\n",
       "      <td>Reg</td>\n",
       "      <td>Lvl</td>\n",
       "      <td>AllPub</td>\n",
       "      <td>...</td>\n",
       "      <td>0</td>\n",
       "      <td>0</td>\n",
       "      <td>NaN</td>\n",
       "      <td>NaN</td>\n",
       "      <td>NaN</td>\n",
       "      <td>0</td>\n",
       "      <td>2</td>\n",
       "      <td>2008</td>\n",
       "      <td>WD</td>\n",
       "      <td>Normal</td>\n",
       "    </tr>\n",
       "    <tr>\n",
       "      <th>1</th>\n",
       "      <td>2</td>\n",
       "      <td>20</td>\n",
       "      <td>RL</td>\n",
       "      <td>80.0</td>\n",
       "      <td>9600</td>\n",
       "      <td>Pave</td>\n",
       "      <td>NaN</td>\n",
       "      <td>Reg</td>\n",
       "      <td>Lvl</td>\n",
       "      <td>AllPub</td>\n",
       "      <td>...</td>\n",
       "      <td>0</td>\n",
       "      <td>0</td>\n",
       "      <td>NaN</td>\n",
       "      <td>NaN</td>\n",
       "      <td>NaN</td>\n",
       "      <td>0</td>\n",
       "      <td>5</td>\n",
       "      <td>2007</td>\n",
       "      <td>WD</td>\n",
       "      <td>Normal</td>\n",
       "    </tr>\n",
       "    <tr>\n",
       "      <th>2</th>\n",
       "      <td>3</td>\n",
       "      <td>60</td>\n",
       "      <td>RL</td>\n",
       "      <td>68.0</td>\n",
       "      <td>11250</td>\n",
       "      <td>Pave</td>\n",
       "      <td>NaN</td>\n",
       "      <td>IR1</td>\n",
       "      <td>Lvl</td>\n",
       "      <td>AllPub</td>\n",
       "      <td>...</td>\n",
       "      <td>0</td>\n",
       "      <td>0</td>\n",
       "      <td>NaN</td>\n",
       "      <td>NaN</td>\n",
       "      <td>NaN</td>\n",
       "      <td>0</td>\n",
       "      <td>9</td>\n",
       "      <td>2008</td>\n",
       "      <td>WD</td>\n",
       "      <td>Normal</td>\n",
       "    </tr>\n",
       "    <tr>\n",
       "      <th>3</th>\n",
       "      <td>4</td>\n",
       "      <td>70</td>\n",
       "      <td>RL</td>\n",
       "      <td>60.0</td>\n",
       "      <td>9550</td>\n",
       "      <td>Pave</td>\n",
       "      <td>NaN</td>\n",
       "      <td>IR1</td>\n",
       "      <td>Lvl</td>\n",
       "      <td>AllPub</td>\n",
       "      <td>...</td>\n",
       "      <td>0</td>\n",
       "      <td>0</td>\n",
       "      <td>NaN</td>\n",
       "      <td>NaN</td>\n",
       "      <td>NaN</td>\n",
       "      <td>0</td>\n",
       "      <td>2</td>\n",
       "      <td>2006</td>\n",
       "      <td>WD</td>\n",
       "      <td>Abnorml</td>\n",
       "    </tr>\n",
       "    <tr>\n",
       "      <th>4</th>\n",
       "      <td>5</td>\n",
       "      <td>60</td>\n",
       "      <td>RL</td>\n",
       "      <td>84.0</td>\n",
       "      <td>14260</td>\n",
       "      <td>Pave</td>\n",
       "      <td>NaN</td>\n",
       "      <td>IR1</td>\n",
       "      <td>Lvl</td>\n",
       "      <td>AllPub</td>\n",
       "      <td>...</td>\n",
       "      <td>0</td>\n",
       "      <td>0</td>\n",
       "      <td>NaN</td>\n",
       "      <td>NaN</td>\n",
       "      <td>NaN</td>\n",
       "      <td>0</td>\n",
       "      <td>12</td>\n",
       "      <td>2008</td>\n",
       "      <td>WD</td>\n",
       "      <td>Normal</td>\n",
       "    </tr>\n",
       "  </tbody>\n",
       "</table>\n",
       "<p>5 rows × 80 columns</p>\n",
       "</div>"
      ],
      "text/plain": [
       "   Id  MSSubClass MSZoning  LotFrontage  LotArea Street Alley LotShape   \n",
       "0   1          60       RL         65.0     8450   Pave   NaN      Reg  \\\n",
       "1   2          20       RL         80.0     9600   Pave   NaN      Reg   \n",
       "2   3          60       RL         68.0    11250   Pave   NaN      IR1   \n",
       "3   4          70       RL         60.0     9550   Pave   NaN      IR1   \n",
       "4   5          60       RL         84.0    14260   Pave   NaN      IR1   \n",
       "\n",
       "  LandContour Utilities  ... ScreenPorch PoolArea PoolQC Fence MiscFeature   \n",
       "0         Lvl    AllPub  ...           0        0    NaN   NaN         NaN  \\\n",
       "1         Lvl    AllPub  ...           0        0    NaN   NaN         NaN   \n",
       "2         Lvl    AllPub  ...           0        0    NaN   NaN         NaN   \n",
       "3         Lvl    AllPub  ...           0        0    NaN   NaN         NaN   \n",
       "4         Lvl    AllPub  ...           0        0    NaN   NaN         NaN   \n",
       "\n",
       "  MiscVal MoSold  YrSold  SaleType  SaleCondition  \n",
       "0       0      2    2008        WD         Normal  \n",
       "1       0      5    2007        WD         Normal  \n",
       "2       0      9    2008        WD         Normal  \n",
       "3       0      2    2006        WD        Abnorml  \n",
       "4       0     12    2008        WD         Normal  \n",
       "\n",
       "[5 rows x 80 columns]"
      ]
     },
     "execution_count": 46,
     "metadata": {},
     "output_type": "execute_result"
    }
   ],
   "source": [
    "housing.data.head()"
   ]
  },
  {
   "attachments": {},
   "cell_type": "markdown",
   "metadata": {},
   "source": [
    "## Model"
   ]
  },
  {
   "cell_type": "code",
   "execution_count": 47,
   "metadata": {},
   "outputs": [],
   "source": [
    "import pandas as pd\n",
    "from sklearn.datasets import fetch_openml\n",
    "from sklearn.model_selection import train_test_split\n",
    "from sklearn.ensemble import RandomForestRegressor\n",
    "from sklearn.metrics import mean_squared_error\n",
    "\n",
    "def load_ames_housing():\n",
    "    df = fetch_openml(name=\"house_prices\", as_frame=True, parser=\"pandas\")\n",
    "    X = df.data\n",
    "    y = df.target\n",
    "    return X, y\n",
    "\n",
    "X, y = load_ames_housing()"
   ]
  },
  {
   "attachments": {},
   "cell_type": "markdown",
   "metadata": {},
   "source": [
    "One-hot encode categorical features"
   ]
  },
  {
   "cell_type": "code",
   "execution_count": 48,
   "metadata": {},
   "outputs": [],
   "source": [
    "X = pd.get_dummies(X)"
   ]
  },
  {
   "attachments": {},
   "cell_type": "markdown",
   "metadata": {},
   "source": [
    "Fill missing values with the mean of each feature"
   ]
  },
  {
   "cell_type": "code",
   "execution_count": 49,
   "metadata": {},
   "outputs": [],
   "source": [
    "X = X.fillna(X.mean())"
   ]
  },
  {
   "cell_type": "code",
   "execution_count": 50,
   "metadata": {},
   "outputs": [],
   "source": [
    "X_train, X_test, y_train, y_test = train_test_split(X, y, test_size=0.3, random_state=42)"
   ]
  },
  {
   "cell_type": "code",
   "execution_count": 51,
   "metadata": {},
   "outputs": [
    {
     "data": {
      "text/html": [
       "<style>#sk-container-id-3 {color: black;background-color: white;}#sk-container-id-3 pre{padding: 0;}#sk-container-id-3 div.sk-toggleable {background-color: white;}#sk-container-id-3 label.sk-toggleable__label {cursor: pointer;display: block;width: 100%;margin-bottom: 0;padding: 0.3em;box-sizing: border-box;text-align: center;}#sk-container-id-3 label.sk-toggleable__label-arrow:before {content: \"▸\";float: left;margin-right: 0.25em;color: #696969;}#sk-container-id-3 label.sk-toggleable__label-arrow:hover:before {color: black;}#sk-container-id-3 div.sk-estimator:hover label.sk-toggleable__label-arrow:before {color: black;}#sk-container-id-3 div.sk-toggleable__content {max-height: 0;max-width: 0;overflow: hidden;text-align: left;background-color: #f0f8ff;}#sk-container-id-3 div.sk-toggleable__content pre {margin: 0.2em;color: black;border-radius: 0.25em;background-color: #f0f8ff;}#sk-container-id-3 input.sk-toggleable__control:checked~div.sk-toggleable__content {max-height: 200px;max-width: 100%;overflow: auto;}#sk-container-id-3 input.sk-toggleable__control:checked~label.sk-toggleable__label-arrow:before {content: \"▾\";}#sk-container-id-3 div.sk-estimator input.sk-toggleable__control:checked~label.sk-toggleable__label {background-color: #d4ebff;}#sk-container-id-3 div.sk-label input.sk-toggleable__control:checked~label.sk-toggleable__label {background-color: #d4ebff;}#sk-container-id-3 input.sk-hidden--visually {border: 0;clip: rect(1px 1px 1px 1px);clip: rect(1px, 1px, 1px, 1px);height: 1px;margin: -1px;overflow: hidden;padding: 0;position: absolute;width: 1px;}#sk-container-id-3 div.sk-estimator {font-family: monospace;background-color: #f0f8ff;border: 1px dotted black;border-radius: 0.25em;box-sizing: border-box;margin-bottom: 0.5em;}#sk-container-id-3 div.sk-estimator:hover {background-color: #d4ebff;}#sk-container-id-3 div.sk-parallel-item::after {content: \"\";width: 100%;border-bottom: 1px solid gray;flex-grow: 1;}#sk-container-id-3 div.sk-label:hover label.sk-toggleable__label {background-color: #d4ebff;}#sk-container-id-3 div.sk-serial::before {content: \"\";position: absolute;border-left: 1px solid gray;box-sizing: border-box;top: 0;bottom: 0;left: 50%;z-index: 0;}#sk-container-id-3 div.sk-serial {display: flex;flex-direction: column;align-items: center;background-color: white;padding-right: 0.2em;padding-left: 0.2em;position: relative;}#sk-container-id-3 div.sk-item {position: relative;z-index: 1;}#sk-container-id-3 div.sk-parallel {display: flex;align-items: stretch;justify-content: center;background-color: white;position: relative;}#sk-container-id-3 div.sk-item::before, #sk-container-id-3 div.sk-parallel-item::before {content: \"\";position: absolute;border-left: 1px solid gray;box-sizing: border-box;top: 0;bottom: 0;left: 50%;z-index: -1;}#sk-container-id-3 div.sk-parallel-item {display: flex;flex-direction: column;z-index: 1;position: relative;background-color: white;}#sk-container-id-3 div.sk-parallel-item:first-child::after {align-self: flex-end;width: 50%;}#sk-container-id-3 div.sk-parallel-item:last-child::after {align-self: flex-start;width: 50%;}#sk-container-id-3 div.sk-parallel-item:only-child::after {width: 0;}#sk-container-id-3 div.sk-dashed-wrapped {border: 1px dashed gray;margin: 0 0.4em 0.5em 0.4em;box-sizing: border-box;padding-bottom: 0.4em;background-color: white;}#sk-container-id-3 div.sk-label label {font-family: monospace;font-weight: bold;display: inline-block;line-height: 1.2em;}#sk-container-id-3 div.sk-label-container {text-align: center;}#sk-container-id-3 div.sk-container {/* jupyter's `normalize.less` sets `[hidden] { display: none; }` but bootstrap.min.css set `[hidden] { display: none !important; }` so we also need the `!important` here to be able to override the default hidden behavior on the sphinx rendered scikit-learn.org. See: https://github.com/scikit-learn/scikit-learn/issues/21755 */display: inline-block !important;position: relative;}#sk-container-id-3 div.sk-text-repr-fallback {display: none;}</style><div id=\"sk-container-id-3\" class=\"sk-top-container\"><div class=\"sk-text-repr-fallback\"><pre>RandomForestRegressor(random_state=42)</pre><b>In a Jupyter environment, please rerun this cell to show the HTML representation or trust the notebook. <br />On GitHub, the HTML representation is unable to render, please try loading this page with nbviewer.org.</b></div><div class=\"sk-container\" hidden><div class=\"sk-item\"><div class=\"sk-estimator sk-toggleable\"><input class=\"sk-toggleable__control sk-hidden--visually\" id=\"sk-estimator-id-3\" type=\"checkbox\" checked><label for=\"sk-estimator-id-3\" class=\"sk-toggleable__label sk-toggleable__label-arrow\">RandomForestRegressor</label><div class=\"sk-toggleable__content\"><pre>RandomForestRegressor(random_state=42)</pre></div></div></div></div></div>"
      ],
      "text/plain": [
       "RandomForestRegressor(random_state=42)"
      ]
     },
     "execution_count": 51,
     "metadata": {},
     "output_type": "execute_result"
    }
   ],
   "source": [
    "model = RandomForestRegressor(n_estimators=100, random_state=42)\n",
    "model.fit(X_train, y_train)"
   ]
  },
  {
   "cell_type": "code",
   "execution_count": 52,
   "metadata": {},
   "outputs": [
    {
     "name": "stdout",
     "output_type": "stream",
     "text": [
      "        Id  MSSubClass  LotFrontage  LotArea  OverallQual  OverallCond   \n",
      "135    136          20         80.0    10400            7            6  \\\n",
      "1452  1453         180         35.0     3675            5            5   \n",
      "762    763          60         72.0     8640            7            5   \n",
      "932    933          20         84.0    11670            9            5   \n",
      "435    436          60         43.0    10667            7            6   \n",
      "\n",
      "      YearBuilt  YearRemodAdd  MasVnrArea  BsmtFinSF1  ...  SaleType_ConLw   \n",
      "135        1970          1970       288.0           0  ...           False  \\\n",
      "1452       2005          2005        80.0         547  ...           False   \n",
      "762        2009          2009         0.0          24  ...           False   \n",
      "932        2006          2006       302.0           0  ...           False   \n",
      "435        1996          1996         0.0         385  ...            True   \n",
      "\n",
      "      SaleType_New  SaleType_Oth  SaleType_WD  SaleCondition_Abnorml   \n",
      "135          False         False         True                  False  \\\n",
      "1452         False         False         True                  False   \n",
      "762          False         False        False                  False   \n",
      "932          False         False         True                  False   \n",
      "435          False         False        False                  False   \n",
      "\n",
      "      SaleCondition_AdjLand  SaleCondition_Alloca  SaleCondition_Family   \n",
      "135                   False                 False                 False  \\\n",
      "1452                  False                 False                 False   \n",
      "762                   False                 False                 False   \n",
      "932                   False                 False                 False   \n",
      "435                   False                 False                 False   \n",
      "\n",
      "      SaleCondition_Normal  SaleCondition_Partial  \n",
      "135                   True                  False  \n",
      "1452                  True                  False  \n",
      "762                   True                  False  \n",
      "932                   True                  False  \n",
      "435                   True                  False  \n",
      "\n",
      "[5 rows x 288 columns]\n",
      "135     174000\n",
      "1452    145000\n",
      "762     215200\n",
      "932     320000\n",
      "435     212000\n",
      "Name: SalePrice, dtype: int64\n"
     ]
    }
   ],
   "source": [
    "print(X_train.head())\n",
    "print(y_train.head())"
   ]
  },
  {
   "cell_type": "code",
   "execution_count": 53,
   "metadata": {},
   "outputs": [
    {
     "name": "stdout",
     "output_type": "stream",
     "text": [
      "Mean Squared Error: 756620775.8089772\n"
     ]
    }
   ],
   "source": [
    "predictions = model.predict(X_test)\n",
    "mse = mean_squared_error(y_test, predictions)\n",
    "print(\"Mean Squared Error:\", mse)"
   ]
  },
  {
   "cell_type": "code",
   "execution_count": 54,
   "metadata": {},
   "outputs": [
    {
     "data": {
      "text/plain": [
       "array(['Id', 'MSSubClass', 'LotFrontage', 'LotArea', 'OverallQual',\n",
       "       'OverallCond', 'YearBuilt', 'YearRemodAdd', 'MasVnrArea',\n",
       "       'BsmtFinSF1', 'BsmtFinSF2', 'BsmtUnfSF', 'TotalBsmtSF', '1stFlrSF',\n",
       "       '2ndFlrSF', 'LowQualFinSF', 'GrLivArea', 'BsmtFullBath',\n",
       "       'BsmtHalfBath', 'FullBath', 'HalfBath', 'BedroomAbvGr',\n",
       "       'KitchenAbvGr', 'TotRmsAbvGrd', 'Fireplaces', 'GarageYrBlt',\n",
       "       'GarageCars', 'GarageArea', 'WoodDeckSF', 'OpenPorchSF',\n",
       "       'EnclosedPorch', '3SsnPorch', 'ScreenPorch', 'PoolArea', 'MiscVal',\n",
       "       'MoSold', 'YrSold', \"MSZoning_'C (all)'\", 'MSZoning_FV',\n",
       "       'MSZoning_RH', 'MSZoning_RL', 'MSZoning_RM', 'Street_Grvl',\n",
       "       'Street_Pave', 'Alley_Grvl', 'Alley_Pave', 'LotShape_IR1',\n",
       "       'LotShape_IR2', 'LotShape_IR3', 'LotShape_Reg', 'LandContour_Bnk',\n",
       "       'LandContour_HLS', 'LandContour_Low', 'LandContour_Lvl',\n",
       "       'Utilities_AllPub', 'Utilities_NoSeWa', 'LotConfig_Corner',\n",
       "       'LotConfig_CulDSac', 'LotConfig_FR2', 'LotConfig_FR3',\n",
       "       'LotConfig_Inside', 'LandSlope_Gtl', 'LandSlope_Mod',\n",
       "       'LandSlope_Sev', 'Neighborhood_Blmngtn', 'Neighborhood_Blueste',\n",
       "       'Neighborhood_BrDale', 'Neighborhood_BrkSide',\n",
       "       'Neighborhood_ClearCr', 'Neighborhood_CollgCr',\n",
       "       'Neighborhood_Crawfor', 'Neighborhood_Edwards',\n",
       "       'Neighborhood_Gilbert', 'Neighborhood_IDOTRR',\n",
       "       'Neighborhood_MeadowV', 'Neighborhood_Mitchel',\n",
       "       'Neighborhood_NAmes', 'Neighborhood_NPkVill',\n",
       "       'Neighborhood_NWAmes', 'Neighborhood_NoRidge',\n",
       "       'Neighborhood_NridgHt', 'Neighborhood_OldTown',\n",
       "       'Neighborhood_SWISU', 'Neighborhood_Sawyer',\n",
       "       'Neighborhood_SawyerW', 'Neighborhood_Somerst',\n",
       "       'Neighborhood_StoneBr', 'Neighborhood_Timber',\n",
       "       'Neighborhood_Veenker', 'Condition1_Artery', 'Condition1_Feedr',\n",
       "       'Condition1_Norm', 'Condition1_PosA', 'Condition1_PosN',\n",
       "       'Condition1_RRAe', 'Condition1_RRAn', 'Condition1_RRNe',\n",
       "       'Condition1_RRNn', 'Condition2_Artery', 'Condition2_Feedr',\n",
       "       'Condition2_Norm', 'Condition2_PosA', 'Condition2_PosN',\n",
       "       'Condition2_RRAe', 'Condition2_RRAn', 'Condition2_RRNn',\n",
       "       'BldgType_1Fam', 'BldgType_2fmCon', 'BldgType_Duplex',\n",
       "       'BldgType_Twnhs', 'BldgType_TwnhsE', 'HouseStyle_1.5Fin',\n",
       "       'HouseStyle_1.5Unf', 'HouseStyle_1Story', 'HouseStyle_2.5Fin',\n",
       "       'HouseStyle_2.5Unf', 'HouseStyle_2Story', 'HouseStyle_SFoyer',\n",
       "       'HouseStyle_SLvl', 'RoofStyle_Flat', 'RoofStyle_Gable',\n",
       "       'RoofStyle_Gambrel', 'RoofStyle_Hip', 'RoofStyle_Mansard',\n",
       "       'RoofStyle_Shed', 'RoofMatl_ClyTile', 'RoofMatl_CompShg',\n",
       "       'RoofMatl_Membran', 'RoofMatl_Metal', 'RoofMatl_Roll',\n",
       "       'RoofMatl_Tar&Grv', 'RoofMatl_WdShake', 'RoofMatl_WdShngl',\n",
       "       \"Exterior1st_'Wd Sdng'\", 'Exterior1st_AsbShng',\n",
       "       'Exterior1st_AsphShn', 'Exterior1st_BrkComm',\n",
       "       'Exterior1st_BrkFace', 'Exterior1st_CBlock', 'Exterior1st_CemntBd',\n",
       "       'Exterior1st_HdBoard', 'Exterior1st_ImStucc',\n",
       "       'Exterior1st_MetalSd', 'Exterior1st_Plywood', 'Exterior1st_Stone',\n",
       "       'Exterior1st_Stucco', 'Exterior1st_VinylSd', 'Exterior1st_WdShing',\n",
       "       \"Exterior2nd_'Brk Cmn'\", \"Exterior2nd_'Wd Sdng'\",\n",
       "       \"Exterior2nd_'Wd Shng'\", 'Exterior2nd_AsbShng',\n",
       "       'Exterior2nd_AsphShn', 'Exterior2nd_BrkFace', 'Exterior2nd_CBlock',\n",
       "       'Exterior2nd_CmentBd', 'Exterior2nd_HdBoard',\n",
       "       'Exterior2nd_ImStucc', 'Exterior2nd_MetalSd', 'Exterior2nd_Other',\n",
       "       'Exterior2nd_Plywood', 'Exterior2nd_Stone', 'Exterior2nd_Stucco',\n",
       "       'Exterior2nd_VinylSd', 'MasVnrType_BrkCmn', 'MasVnrType_BrkFace',\n",
       "       'MasVnrType_Stone', 'ExterQual_Ex', 'ExterQual_Fa', 'ExterQual_Gd',\n",
       "       'ExterQual_TA', 'ExterCond_Ex', 'ExterCond_Fa', 'ExterCond_Gd',\n",
       "       'ExterCond_Po', 'ExterCond_TA', 'Foundation_BrkTil',\n",
       "       'Foundation_CBlock', 'Foundation_PConc', 'Foundation_Slab',\n",
       "       'Foundation_Stone', 'Foundation_Wood', 'BsmtQual_Ex',\n",
       "       'BsmtQual_Fa', 'BsmtQual_Gd', 'BsmtQual_TA', 'BsmtCond_Fa',\n",
       "       'BsmtCond_Gd', 'BsmtCond_Po', 'BsmtCond_TA', 'BsmtExposure_Av',\n",
       "       'BsmtExposure_Gd', 'BsmtExposure_Mn', 'BsmtExposure_No',\n",
       "       'BsmtFinType1_ALQ', 'BsmtFinType1_BLQ', 'BsmtFinType1_GLQ',\n",
       "       'BsmtFinType1_LwQ', 'BsmtFinType1_Rec', 'BsmtFinType1_Unf',\n",
       "       'BsmtFinType2_ALQ', 'BsmtFinType2_BLQ', 'BsmtFinType2_GLQ',\n",
       "       'BsmtFinType2_LwQ', 'BsmtFinType2_Rec', 'BsmtFinType2_Unf',\n",
       "       'Heating_Floor', 'Heating_GasA', 'Heating_GasW', 'Heating_Grav',\n",
       "       'Heating_OthW', 'Heating_Wall', 'HeatingQC_Ex', 'HeatingQC_Fa',\n",
       "       'HeatingQC_Gd', 'HeatingQC_Po', 'HeatingQC_TA', 'CentralAir_N',\n",
       "       'CentralAir_Y', 'Electrical_FuseA', 'Electrical_FuseF',\n",
       "       'Electrical_FuseP', 'Electrical_Mix', 'Electrical_SBrkr',\n",
       "       'KitchenQual_Ex', 'KitchenQual_Fa', 'KitchenQual_Gd',\n",
       "       'KitchenQual_TA', 'Functional_Maj1', 'Functional_Maj2',\n",
       "       'Functional_Min1', 'Functional_Min2', 'Functional_Mod',\n",
       "       'Functional_Sev', 'Functional_Typ', 'FireplaceQu_Ex',\n",
       "       'FireplaceQu_Fa', 'FireplaceQu_Gd', 'FireplaceQu_Po',\n",
       "       'FireplaceQu_TA', 'GarageType_2Types', 'GarageType_Attchd',\n",
       "       'GarageType_Basment', 'GarageType_BuiltIn', 'GarageType_CarPort',\n",
       "       'GarageType_Detchd', 'GarageFinish_Fin', 'GarageFinish_RFn',\n",
       "       'GarageFinish_Unf', 'GarageQual_Ex', 'GarageQual_Fa',\n",
       "       'GarageQual_Gd', 'GarageQual_Po', 'GarageQual_TA', 'GarageCond_Ex',\n",
       "       'GarageCond_Fa', 'GarageCond_Gd', 'GarageCond_Po', 'GarageCond_TA',\n",
       "       'PavedDrive_N', 'PavedDrive_P', 'PavedDrive_Y', 'PoolQC_Ex',\n",
       "       'PoolQC_Fa', 'PoolQC_Gd', 'Fence_GdPrv', 'Fence_GdWo',\n",
       "       'Fence_MnPrv', 'Fence_MnWw', 'MiscFeature_Gar2',\n",
       "       'MiscFeature_Othr', 'MiscFeature_Shed', 'MiscFeature_TenC',\n",
       "       'SaleType_COD', 'SaleType_CWD', 'SaleType_Con', 'SaleType_ConLD',\n",
       "       'SaleType_ConLI', 'SaleType_ConLw', 'SaleType_New', 'SaleType_Oth',\n",
       "       'SaleType_WD', 'SaleCondition_Abnorml', 'SaleCondition_AdjLand',\n",
       "       'SaleCondition_Alloca', 'SaleCondition_Family',\n",
       "       'SaleCondition_Normal', 'SaleCondition_Partial'], dtype=object)"
      ]
     },
     "execution_count": 54,
     "metadata": {},
     "output_type": "execute_result"
    }
   ],
   "source": [
    "model.feature_importances_\n",
    "model.feature_names_in_"
   ]
  },
  {
   "cell_type": "code",
   "execution_count": 55,
   "metadata": {},
   "outputs": [
    {
     "data": {
      "text/plain": [
       "[DecisionTreeRegressor(max_features=1.0, random_state=1608637542),\n",
       " DecisionTreeRegressor(max_features=1.0, random_state=1273642419),\n",
       " DecisionTreeRegressor(max_features=1.0, random_state=1935803228),\n",
       " DecisionTreeRegressor(max_features=1.0, random_state=787846414),\n",
       " DecisionTreeRegressor(max_features=1.0, random_state=996406378),\n",
       " DecisionTreeRegressor(max_features=1.0, random_state=1201263687),\n",
       " DecisionTreeRegressor(max_features=1.0, random_state=423734972),\n",
       " DecisionTreeRegressor(max_features=1.0, random_state=415968276),\n",
       " DecisionTreeRegressor(max_features=1.0, random_state=670094950),\n",
       " DecisionTreeRegressor(max_features=1.0, random_state=1914837113),\n",
       " DecisionTreeRegressor(max_features=1.0, random_state=669991378),\n",
       " DecisionTreeRegressor(max_features=1.0, random_state=429389014),\n",
       " DecisionTreeRegressor(max_features=1.0, random_state=249467210),\n",
       " DecisionTreeRegressor(max_features=1.0, random_state=1972458954),\n",
       " DecisionTreeRegressor(max_features=1.0, random_state=1572714583),\n",
       " DecisionTreeRegressor(max_features=1.0, random_state=1433267572),\n",
       " DecisionTreeRegressor(max_features=1.0, random_state=434285667),\n",
       " DecisionTreeRegressor(max_features=1.0, random_state=613608295),\n",
       " DecisionTreeRegressor(max_features=1.0, random_state=893664919),\n",
       " DecisionTreeRegressor(max_features=1.0, random_state=648061058),\n",
       " DecisionTreeRegressor(max_features=1.0, random_state=88409749),\n",
       " DecisionTreeRegressor(max_features=1.0, random_state=242285876),\n",
       " DecisionTreeRegressor(max_features=1.0, random_state=2018247425),\n",
       " DecisionTreeRegressor(max_features=1.0, random_state=953477463),\n",
       " DecisionTreeRegressor(max_features=1.0, random_state=1427830251),\n",
       " DecisionTreeRegressor(max_features=1.0, random_state=1883569565),\n",
       " DecisionTreeRegressor(max_features=1.0, random_state=911989541),\n",
       " DecisionTreeRegressor(max_features=1.0, random_state=3344769),\n",
       " DecisionTreeRegressor(max_features=1.0, random_state=780932287),\n",
       " DecisionTreeRegressor(max_features=1.0, random_state=2114032571),\n",
       " DecisionTreeRegressor(max_features=1.0, random_state=787716372),\n",
       " DecisionTreeRegressor(max_features=1.0, random_state=504579232),\n",
       " DecisionTreeRegressor(max_features=1.0, random_state=1306710475),\n",
       " DecisionTreeRegressor(max_features=1.0, random_state=479546681),\n",
       " DecisionTreeRegressor(max_features=1.0, random_state=106328085),\n",
       " DecisionTreeRegressor(max_features=1.0, random_state=30349564),\n",
       " DecisionTreeRegressor(max_features=1.0, random_state=1855189739),\n",
       " DecisionTreeRegressor(max_features=1.0, random_state=99052376),\n",
       " DecisionTreeRegressor(max_features=1.0, random_state=1250819632),\n",
       " DecisionTreeRegressor(max_features=1.0, random_state=106406362),\n",
       " DecisionTreeRegressor(max_features=1.0, random_state=480404538),\n",
       " DecisionTreeRegressor(max_features=1.0, random_state=1717389822),\n",
       " DecisionTreeRegressor(max_features=1.0, random_state=599121577),\n",
       " DecisionTreeRegressor(max_features=1.0, random_state=200427519),\n",
       " DecisionTreeRegressor(max_features=1.0, random_state=1254751707),\n",
       " DecisionTreeRegressor(max_features=1.0, random_state=2034764475),\n",
       " DecisionTreeRegressor(max_features=1.0, random_state=1573512143),\n",
       " DecisionTreeRegressor(max_features=1.0, random_state=999745294),\n",
       " DecisionTreeRegressor(max_features=1.0, random_state=1958805693),\n",
       " DecisionTreeRegressor(max_features=1.0, random_state=389151677),\n",
       " DecisionTreeRegressor(max_features=1.0, random_state=1224821422),\n",
       " DecisionTreeRegressor(max_features=1.0, random_state=508464061),\n",
       " DecisionTreeRegressor(max_features=1.0, random_state=857592370),\n",
       " DecisionTreeRegressor(max_features=1.0, random_state=1642661739),\n",
       " DecisionTreeRegressor(max_features=1.0, random_state=61136438),\n",
       " DecisionTreeRegressor(max_features=1.0, random_state=2075460851),\n",
       " DecisionTreeRegressor(max_features=1.0, random_state=396917567),\n",
       " DecisionTreeRegressor(max_features=1.0, random_state=2004731384),\n",
       " DecisionTreeRegressor(max_features=1.0, random_state=199502978),\n",
       " DecisionTreeRegressor(max_features=1.0, random_state=1545932260),\n",
       " DecisionTreeRegressor(max_features=1.0, random_state=461901618),\n",
       " DecisionTreeRegressor(max_features=1.0, random_state=774414982),\n",
       " DecisionTreeRegressor(max_features=1.0, random_state=732395540),\n",
       " DecisionTreeRegressor(max_features=1.0, random_state=1934879560),\n",
       " DecisionTreeRegressor(max_features=1.0, random_state=279394470),\n",
       " DecisionTreeRegressor(max_features=1.0, random_state=56972561),\n",
       " DecisionTreeRegressor(max_features=1.0, random_state=1927948675),\n",
       " DecisionTreeRegressor(max_features=1.0, random_state=1899242072),\n",
       " DecisionTreeRegressor(max_features=1.0, random_state=1999874363),\n",
       " DecisionTreeRegressor(max_features=1.0, random_state=271820813),\n",
       " DecisionTreeRegressor(max_features=1.0, random_state=1324556529),\n",
       " DecisionTreeRegressor(max_features=1.0, random_state=1655351289),\n",
       " DecisionTreeRegressor(max_features=1.0, random_state=1308306184),\n",
       " DecisionTreeRegressor(max_features=1.0, random_state=68574553),\n",
       " DecisionTreeRegressor(max_features=1.0, random_state=419498548),\n",
       " DecisionTreeRegressor(max_features=1.0, random_state=991681409),\n",
       " DecisionTreeRegressor(max_features=1.0, random_state=791274835),\n",
       " DecisionTreeRegressor(max_features=1.0, random_state=1035196507),\n",
       " DecisionTreeRegressor(max_features=1.0, random_state=1890440558),\n",
       " DecisionTreeRegressor(max_features=1.0, random_state=787110843),\n",
       " DecisionTreeRegressor(max_features=1.0, random_state=524150214),\n",
       " DecisionTreeRegressor(max_features=1.0, random_state=472432043),\n",
       " DecisionTreeRegressor(max_features=1.0, random_state=2126768636),\n",
       " DecisionTreeRegressor(max_features=1.0, random_state=1431061255),\n",
       " DecisionTreeRegressor(max_features=1.0, random_state=147697582),\n",
       " DecisionTreeRegressor(max_features=1.0, random_state=744595490),\n",
       " DecisionTreeRegressor(max_features=1.0, random_state=1758017741),\n",
       " DecisionTreeRegressor(max_features=1.0, random_state=1679592528),\n",
       " DecisionTreeRegressor(max_features=1.0, random_state=1111451555),\n",
       " DecisionTreeRegressor(max_features=1.0, random_state=782698033),\n",
       " DecisionTreeRegressor(max_features=1.0, random_state=698027879),\n",
       " DecisionTreeRegressor(max_features=1.0, random_state=1096768899),\n",
       " DecisionTreeRegressor(max_features=1.0, random_state=1338788865),\n",
       " DecisionTreeRegressor(max_features=1.0, random_state=1826030589),\n",
       " DecisionTreeRegressor(max_features=1.0, random_state=86191493),\n",
       " DecisionTreeRegressor(max_features=1.0, random_state=893102645),\n",
       " DecisionTreeRegressor(max_features=1.0, random_state=200619113),\n",
       " DecisionTreeRegressor(max_features=1.0, random_state=290770691),\n",
       " DecisionTreeRegressor(max_features=1.0, random_state=793943861),\n",
       " DecisionTreeRegressor(max_features=1.0, random_state=134489564)]"
      ]
     },
     "execution_count": 55,
     "metadata": {},
     "output_type": "execute_result"
    }
   ],
   "source": [
    "model.estimators_"
   ]
  },
  {
   "cell_type": "code",
   "execution_count": 68,
   "metadata": {},
   "outputs": [
    {
     "data": {
      "text/html": [
       "\n",
       "<script>\n",
       "    require.config({\n",
       "        paths: {\n",
       "            'echarts':'https://assets.pyecharts.org/assets/v5/echarts.min'\n",
       "        }\n",
       "    });\n",
       "</script>\n",
       "\n",
       "        <div id=\"c45e555c60cb45ce8439b46b745bc52c\" style=\"width:1000px; height:600px;\"></div>\n",
       "\n",
       "<script>\n",
       "        require(['echarts'], function(echarts) {\n",
       "                var chart_c45e555c60cb45ce8439b46b745bc52c = echarts.init(\n",
       "                    document.getElementById('c45e555c60cb45ce8439b46b745bc52c'), 'white', {renderer: 'canvas'});\n",
       "                var option_c45e555c60cb45ce8439b46b745bc52c = {\n",
       "    \"animation\": true,\n",
       "    \"animationThreshold\": 2000,\n",
       "    \"animationDuration\": 1000,\n",
       "    \"animationEasing\": \"cubicOut\",\n",
       "    \"animationDelay\": 0,\n",
       "    \"animationDurationUpdate\": 300,\n",
       "    \"animationEasingUpdate\": \"cubicOut\",\n",
       "    \"animationDelayUpdate\": 0,\n",
       "    \"aria\": {\n",
       "        \"enabled\": false\n",
       "    },\n",
       "    \"color\": [\n",
       "        \"#5470c6\",\n",
       "        \"#91cc75\",\n",
       "        \"#fac858\",\n",
       "        \"#ee6666\",\n",
       "        \"#73c0de\",\n",
       "        \"#3ba272\",\n",
       "        \"#fc8452\",\n",
       "        \"#9a60b4\",\n",
       "        \"#ea7ccc\"\n",
       "    ],\n",
       "    \"series\": [\n",
       "        {\n",
       "            \"type\": \"bar\",\n",
       "            \"name\": \"Feature Importances\",\n",
       "            \"legendHoverLink\": true,\n",
       "            \"data\": [\n",
       "                0.539135560645136,\n",
       "                0.11609131775285156,\n",
       "                0.03429702777054075,\n",
       "                0.03261892364191283,\n",
       "                0.03022490485372718,\n",
       "                0.02834747787085863,\n",
       "                0.021282659149535307,\n",
       "                0.015743398666765007,\n",
       "                0.014754264539858253,\n",
       "                0.014619551553762971,\n",
       "                0.012601277283905908,\n",
       "                0.006876126673853156,\n",
       "                0.0062499055839430155,\n",
       "                0.006189602448186835,\n",
       "                0.006092549858152633,\n",
       "                0.005449471441539442,\n",
       "                0.0052806974492314905,\n",
       "                0.005271054202454148,\n",
       "                0.0047296387142945154,\n",
       "                0.004530682895135479\n",
       "            ],\n",
       "            \"realtimeSort\": false,\n",
       "            \"showBackground\": false,\n",
       "            \"stackStrategy\": \"samesign\",\n",
       "            \"cursor\": \"pointer\",\n",
       "            \"barMinHeight\": 0,\n",
       "            \"barCategoryGap\": \"20%\",\n",
       "            \"barGap\": \"30%\",\n",
       "            \"large\": false,\n",
       "            \"largeThreshold\": 400,\n",
       "            \"seriesLayoutBy\": \"column\",\n",
       "            \"datasetIndex\": 0,\n",
       "            \"clip\": true,\n",
       "            \"zlevel\": 0,\n",
       "            \"z\": 2,\n",
       "            \"label\": {\n",
       "                \"show\": false,\n",
       "                \"margin\": 8\n",
       "            }\n",
       "        }\n",
       "    ],\n",
       "    \"legend\": [\n",
       "        {\n",
       "            \"data\": [\n",
       "                \"Feature Importances\"\n",
       "            ],\n",
       "            \"selected\": {},\n",
       "            \"show\": true,\n",
       "            \"padding\": 5,\n",
       "            \"itemGap\": 10,\n",
       "            \"itemWidth\": 25,\n",
       "            \"itemHeight\": 14,\n",
       "            \"backgroundColor\": \"transparent\",\n",
       "            \"borderColor\": \"#ccc\",\n",
       "            \"borderWidth\": 1,\n",
       "            \"borderRadius\": 0,\n",
       "            \"pageButtonItemGap\": 5,\n",
       "            \"pageButtonPosition\": \"end\",\n",
       "            \"pageFormatter\": \"{current}/{total}\",\n",
       "            \"pageIconColor\": \"#2f4554\",\n",
       "            \"pageIconInactiveColor\": \"#aaa\",\n",
       "            \"pageIconSize\": 15,\n",
       "            \"animationDurationUpdate\": 800,\n",
       "            \"selector\": false,\n",
       "            \"selectorPosition\": \"auto\",\n",
       "            \"selectorItemGap\": 7,\n",
       "            \"selectorButtonGap\": 10\n",
       "        }\n",
       "    ],\n",
       "    \"tooltip\": {\n",
       "        \"show\": true,\n",
       "        \"trigger\": \"item\",\n",
       "        \"triggerOn\": \"mousemove|click\",\n",
       "        \"axisPointer\": {\n",
       "            \"type\": \"line\"\n",
       "        },\n",
       "        \"showContent\": true,\n",
       "        \"alwaysShowContent\": false,\n",
       "        \"showDelay\": 0,\n",
       "        \"hideDelay\": 100,\n",
       "        \"enterable\": false,\n",
       "        \"confine\": false,\n",
       "        \"appendToBody\": false,\n",
       "        \"transitionDuration\": 0.4,\n",
       "        \"textStyle\": {\n",
       "            \"fontSize\": 14\n",
       "        },\n",
       "        \"borderWidth\": 0,\n",
       "        \"padding\": 5,\n",
       "        \"order\": \"seriesAsc\"\n",
       "    },\n",
       "    \"xAxis\": [\n",
       "        {\n",
       "            \"show\": true,\n",
       "            \"scale\": false,\n",
       "            \"nameLocation\": \"end\",\n",
       "            \"nameGap\": 15,\n",
       "            \"gridIndex\": 0,\n",
       "            \"inverse\": false,\n",
       "            \"offset\": 0,\n",
       "            \"splitNumber\": 5,\n",
       "            \"minInterval\": 0,\n",
       "            \"splitLine\": {\n",
       "                \"show\": true,\n",
       "                \"lineStyle\": {\n",
       "                    \"show\": true,\n",
       "                    \"width\": 1,\n",
       "                    \"opacity\": 1,\n",
       "                    \"curveness\": 0,\n",
       "                    \"type\": \"solid\"\n",
       "                }\n",
       "            }\n",
       "        }\n",
       "    ],\n",
       "    \"yAxis\": [\n",
       "        {\n",
       "            \"show\": true,\n",
       "            \"scale\": false,\n",
       "            \"nameLocation\": \"end\",\n",
       "            \"nameGap\": 15,\n",
       "            \"gridIndex\": 0,\n",
       "            \"axisLabel\": {\n",
       "                \"show\": true,\n",
       "                \"rotate\": -30,\n",
       "                \"margin\": 8\n",
       "            },\n",
       "            \"inverse\": false,\n",
       "            \"offset\": 0,\n",
       "            \"splitNumber\": 5,\n",
       "            \"minInterval\": 0,\n",
       "            \"splitLine\": {\n",
       "                \"show\": true,\n",
       "                \"lineStyle\": {\n",
       "                    \"show\": true,\n",
       "                    \"width\": 1,\n",
       "                    \"opacity\": 1,\n",
       "                    \"curveness\": 0,\n",
       "                    \"type\": \"solid\"\n",
       "                }\n",
       "            },\n",
       "            \"data\": [\n",
       "                \"OverallQual\",\n",
       "                \"GrLivArea\",\n",
       "                \"2ndFlrSF\",\n",
       "                \"TotalBsmtSF\",\n",
       "                \"BsmtFinSF1\",\n",
       "                \"1stFlrSF\",\n",
       "                \"GarageCars\",\n",
       "                \"LotArea\",\n",
       "                \"GarageArea\",\n",
       "                \"BsmtQual_Ex\",\n",
       "                \"YearBuilt\",\n",
       "                \"LotFrontage\",\n",
       "                \"GarageYrBlt\",\n",
       "                \"OpenPorchSF\",\n",
       "                \"YearRemodAdd\",\n",
       "                \"ScreenPorch\",\n",
       "                \"BsmtUnfSF\",\n",
       "                \"WoodDeckSF\",\n",
       "                \"TotRmsAbvGrd\",\n",
       "                \"Id\"\n",
       "            ]\n",
       "        }\n",
       "    ],\n",
       "    \"title\": [\n",
       "        {\n",
       "            \"show\": true,\n",
       "            \"text\": \"Top 20 Feature Importance Plot\",\n",
       "            \"target\": \"blank\",\n",
       "            \"subtarget\": \"blank\",\n",
       "            \"padding\": 5,\n",
       "            \"itemGap\": 10,\n",
       "            \"textAlign\": \"auto\",\n",
       "            \"textVerticalAlign\": \"auto\",\n",
       "            \"triggerEvent\": false\n",
       "        }\n",
       "    ]\n",
       "};\n",
       "                chart_c45e555c60cb45ce8439b46b745bc52c.setOption(option_c45e555c60cb45ce8439b46b745bc52c);\n",
       "        });\n",
       "    </script>\n"
      ],
      "text/plain": [
       "<pyecharts.render.display.HTML at 0x282bf45e0>"
      ]
     },
     "execution_count": 68,
     "metadata": {},
     "output_type": "execute_result"
    }
   ],
   "source": [
    "import numpy as np\n",
    "from pyecharts.charts import Bar\n",
    "from pyecharts import options as opts\n",
    "\n",
    "# Get feature importances and feature names\n",
    "importances = model.feature_importances_\n",
    "feature_names = X.columns\n",
    "\n",
    "# Sort importances and names in descending order\n",
    "sorted_idx = np.argsort(importances)[::-1]\n",
    "sorted_importances = importances[sorted_idx][:20]  # Select top 20 importances\n",
    "sorted_feature_names = feature_names[sorted_idx][:20]  # Select top 20 feature names\n",
    "\n",
    "# Create a horizontal bar chart\n",
    "bar = (\n",
    "    Bar(init_opts=opts.InitOpts(width=\"1000px\", height=\"600px\"))\n",
    "    .add_xaxis(sorted_feature_names.tolist())\n",
    "    .add_yaxis(\"Feature Importances\", sorted_importances.tolist(), \n",
    "               label_opts=opts.LabelOpts(is_show=False))\n",
    "    .reversal_axis()\n",
    "    .set_global_opts(title_opts=opts.TitleOpts(title=\"Top 20 Feature Importance Plot\"),\n",
    "                     yaxis_opts=opts.AxisOpts(axislabel_opts=opts.LabelOpts(rotate=-30)))\n",
    ")\n",
    "\n",
    "bar.render_notebook()\n"
   ]
  },
  {
   "cell_type": "code",
   "execution_count": 37,
   "metadata": {},
   "outputs": [
    {
     "data": {
      "text/plain": [
       "{'bootstrap': True,\n",
       " 'ccp_alpha': 0.0,\n",
       " 'criterion': 'squared_error',\n",
       " 'max_depth': None,\n",
       " 'max_features': 1.0,\n",
       " 'max_leaf_nodes': None,\n",
       " 'max_samples': None,\n",
       " 'min_impurity_decrease': 0.0,\n",
       " 'min_samples_leaf': 1,\n",
       " 'min_samples_split': 2,\n",
       " 'min_weight_fraction_leaf': 0.0,\n",
       " 'n_estimators': 100,\n",
       " 'n_jobs': None,\n",
       " 'oob_score': False,\n",
       " 'random_state': 42,\n",
       " 'verbose': 0,\n",
       " 'warm_start': False}"
      ]
     },
     "execution_count": 37,
     "metadata": {},
     "output_type": "execute_result"
    }
   ],
   "source": [
    "model.get_params()"
   ]
  },
  {
   "attachments": {},
   "cell_type": "markdown",
   "metadata": {},
   "source": [
    "## Pipelines"
   ]
  },
  {
   "cell_type": "code",
   "execution_count": 38,
   "metadata": {},
   "outputs": [
    {
     "data": {
      "text/plain": [
       "0.9736842105263158"
      ]
     },
     "execution_count": 38,
     "metadata": {},
     "output_type": "execute_result"
    }
   ],
   "source": [
    "from sklearn.preprocessing import StandardScaler\n",
    "from sklearn.linear_model import LogisticRegression\n",
    "from sklearn.pipeline import make_pipeline\n",
    "from sklearn.datasets import load_iris\n",
    "from sklearn.model_selection import train_test_split\n",
    "from sklearn.metrics import accuracy_score\n",
    "\n",
    "# create a pipeline object\n",
    "pipe = make_pipeline(\n",
    "    StandardScaler(),\n",
    "    LogisticRegression()\n",
    ")\n",
    "\n",
    "# load the iris dataset and split it into train and test sets\n",
    "X, y = load_iris(return_X_y=True)\n",
    "X_train, X_test, y_train, y_test = train_test_split(X, y, random_state=0)\n",
    "\n",
    "# fit the whole pipeline\n",
    "pipe.fit(X_train, y_train)\n",
    "\n",
    "# we can now use it like any other estimator\n",
    "accuracy_score(pipe.predict(X_test), y_test)"
   ]
  },
  {
   "attachments": {},
   "cell_type": "markdown",
   "metadata": {},
   "source": [
    "Apart from the sklearn.ensemble model arifacts there are sklearn.pipeline ones"
   ]
  },
  {
   "cell_type": "code",
   "execution_count": 73,
   "metadata": {},
   "outputs": [
    {
     "name": "stdout",
     "output_type": "stream",
     "text": [
      "<class 'sklearn.ensemble._forest.RandomForestRegressor'>\n",
      "<class 'sklearn.pipeline.Pipeline'>\n"
     ]
    }
   ],
   "source": [
    "print(type(model))\n",
    "print(type(pipe))"
   ]
  },
  {
   "cell_type": "code",
   "execution_count": 70,
   "metadata": {},
   "outputs": [
    {
     "data": {
      "text/plain": [
       "{'memory': None,\n",
       " 'steps': [('standardscaler', StandardScaler()),\n",
       "  ('logisticregression', LogisticRegression())],\n",
       " 'verbose': False,\n",
       " 'standardscaler': StandardScaler(),\n",
       " 'logisticregression': LogisticRegression(),\n",
       " 'standardscaler__copy': True,\n",
       " 'standardscaler__with_mean': True,\n",
       " 'standardscaler__with_std': True,\n",
       " 'logisticregression__C': 1.0,\n",
       " 'logisticregression__class_weight': None,\n",
       " 'logisticregression__dual': False,\n",
       " 'logisticregression__fit_intercept': True,\n",
       " 'logisticregression__intercept_scaling': 1,\n",
       " 'logisticregression__l1_ratio': None,\n",
       " 'logisticregression__max_iter': 100,\n",
       " 'logisticregression__multi_class': 'auto',\n",
       " 'logisticregression__n_jobs': None,\n",
       " 'logisticregression__penalty': 'l2',\n",
       " 'logisticregression__random_state': None,\n",
       " 'logisticregression__solver': 'lbfgs',\n",
       " 'logisticregression__tol': 0.0001,\n",
       " 'logisticregression__verbose': 0,\n",
       " 'logisticregression__warm_start': False}"
      ]
     },
     "execution_count": 70,
     "metadata": {},
     "output_type": "execute_result"
    }
   ],
   "source": [
    "pipe.get_params()"
   ]
  },
  {
   "attachments": {},
   "cell_type": "markdown",
   "metadata": {},
   "source": [
    "## Model Evaluation"
   ]
  },
  {
   "cell_type": "code",
   "execution_count": 39,
   "metadata": {},
   "outputs": [
    {
     "data": {
      "text/plain": [
       "array([1., 1., 1., 1., 1.])"
      ]
     },
     "execution_count": 39,
     "metadata": {},
     "output_type": "execute_result"
    }
   ],
   "source": [
    "from sklearn.datasets import make_regression\n",
    "from sklearn.linear_model import LinearRegression\n",
    "from sklearn.model_selection import cross_validate\n",
    "\n",
    "X, y = make_regression(n_samples=1000, random_state=0)\n",
    "lr = LinearRegression()\n",
    "\n",
    "result = cross_validate(lr, X, y)  # defaults to 5-fold CV\n",
    "result['test_score']  # r_squared score is high because dataset is easy"
   ]
  },
  {
   "cell_type": "code",
   "execution_count": 40,
   "metadata": {},
   "outputs": [
    {
     "data": {
      "text/plain": [
       "array([[ 0.41929687, -1.5489299 ,  0.65218686, -0.49408282],\n",
       "       [-2.06947249,  0.72712806,  0.0975975 , -0.89114577],\n",
       "       [-0.37595997,  0.66414405,  1.02239232,  1.30318096],\n",
       "       [ 0.31749025,  0.46411275, -0.3341655 , -0.91861413]])"
      ]
     },
     "execution_count": 40,
     "metadata": {},
     "output_type": "execute_result"
    }
   ],
   "source": [
    "X[:4,0:4]"
   ]
  },
  {
   "cell_type": "code",
   "execution_count": 41,
   "metadata": {},
   "outputs": [
    {
     "data": {
      "text/plain": [
       "array([-204.05796311, -376.32576127,   23.73019298,  112.55899237])"
      ]
     },
     "execution_count": 41,
     "metadata": {},
     "output_type": "execute_result"
    }
   ],
   "source": [
    "y[0:4]"
   ]
  },
  {
   "cell_type": "code",
   "execution_count": 42,
   "metadata": {},
   "outputs": [
    {
     "data": {
      "text/plain": [
       "0.735363411343253"
      ]
     },
     "execution_count": 42,
     "metadata": {},
     "output_type": "execute_result"
    }
   ],
   "source": [
    "from sklearn.datasets import fetch_california_housing\n",
    "from sklearn.ensemble import RandomForestRegressor\n",
    "from sklearn.model_selection import RandomizedSearchCV\n",
    "from sklearn.model_selection import train_test_split\n",
    "from scipy.stats import randint\n",
    "\n",
    "X, y = fetch_california_housing(return_X_y=True)\n",
    "X_train, X_test, y_train, y_test = train_test_split(X, y, random_state=0)\n",
    "\n",
    "# define the parameter space that will be searched over\n",
    "param_distributions = {'n_estimators': randint(1, 5),\n",
    "                       'max_depth': randint(5, 10)}\n",
    "\n",
    "# now create a searchCV object and fit it to the data\n",
    "search = RandomizedSearchCV(estimator=RandomForestRegressor(random_state=0),\n",
    "                            n_iter=5,\n",
    "                            param_distributions=param_distributions,\n",
    "                            random_state=0)\n",
    "                            \n",
    "search.fit(X_train, y_train)\n",
    "\n",
    "\n",
    "search.best_params_\n",
    "\n",
    "\n",
    "# the search object now acts like a normal random forest estimator\n",
    "# with max_depth=9 and n_estimators=4\n",
    "search.score(X_test, y_test)"
   ]
  }
 ],
 "metadata": {
  "kernelspec": {
   "display_name": "Python 3",
   "language": "python",
   "name": "python3"
  },
  "language_info": {
   "codemirror_mode": {
    "name": "ipython",
    "version": 3
   },
   "file_extension": ".py",
   "mimetype": "text/x-python",
   "name": "python",
   "nbconvert_exporter": "python",
   "pygments_lexer": "ipython3",
   "version": "3.9.6"
  },
  "orig_nbformat": 4
 },
 "nbformat": 4,
 "nbformat_minor": 2
}
